{
 "cells": [
  {
   "cell_type": "code",
   "execution_count": 4,
   "metadata": {},
   "outputs": [],
   "source": [
    "import numpy as np"
   ]
  },
  {
   "cell_type": "code",
   "execution_count": 5,
   "metadata": {},
   "outputs": [],
   "source": [
    "class FCLayer:\n",
    "    def __init__(self, input_size, output_size):\n",
    "        self.input_size = input_size\n",
    "        self.output_size = output_size\n",
    "        self.weights = np.random.randn(input_size, output_size) / np.sqrt(input_size + output_size)\n",
    "        self.bias = np.random.randn(1, output_size) / np.sqrt(input_size + output_size)\n",
    "\n",
    "    def forward(self, input):\n",
    "        self.input = input\n",
    "        return np.dot(input, self.weights) + self.bias\n",
    "\n",
    "    def backward(self, output_error, learning_rate):\n",
    "        input_error = np.dot(output_error, self.weights.T)\n",
    "        weights_error = np.dot(self.input.T, output_error)\n",
    "        # bias_error = output_error\n",
    "        \n",
    "        self.weights -= learning_rate * weights_error\n",
    "        self.bias -= learning_rate * output_error\n",
    "        return input_error"
   ]
  },
  {
   "cell_type": "code",
   "execution_count": 6,
   "metadata": {},
   "outputs": [],
   "source": [
    "class ActivationLayer:\n",
    "    def __init__(self, activation, activation_prime):\n",
    "        self.activation = activation\n",
    "        self.activation_prime = activation_prime\n",
    "    \n",
    "    def forward(self, input):\n",
    "        self.input = input\n",
    "        return self.activation(input)\n",
    "    \n",
    "    def backward(self, output_error, learning_rate):\n",
    "        return output_error * self.activation_prime(self.input)"
   ]
  },
  {
   "cell_type": "code",
   "execution_count": 7,
   "metadata": {},
   "outputs": [],
   "source": [
    "class FlattenLayer:\n",
    "    def __init__(self, input_shape):\n",
    "        self.input_shape = input_shape\n",
    "\n",
    "    def forward(self, input):\n",
    "        return np.reshape(input, (1, -1))\n",
    "    \n",
    "    def backward(self, output_error, learning_rate):\n",
    "        return np.reshape(output_error, self.input_shape)"
   ]
  },
  {
   "cell_type": "code",
   "execution_count": 8,
   "metadata": {},
   "outputs": [],
   "source": [
    "class SoftmaxLayer:\n",
    "    def __init__(self, input_size):\n",
    "        self.input_size = input_size\n",
    "    \n",
    "    def forward(self, input):\n",
    "        self.input = input\n",
    "        tmp = np.exp(input)\n",
    "        self.output = tmp / np.sum(tmp)\n",
    "        return self.output\n",
    "    \n",
    "    def backward(self, output_error, learning_rate):\n",
    "        input_error = np.zeros(output_error.shape)\n",
    "        out = np.tile(self.output.T, self.input_size)\n",
    "        return self.output * np.dot(output_error, np.identity(self.input_size) - out)"
   ]
  },
  {
   "cell_type": "code",
   "execution_count": 9,
   "metadata": {},
   "outputs": [],
   "source": [
    "def sigmoid(x):\n",
    "    return 1 / (1 + np.exp(-x))\n",
    "\n",
    "def sigmoid_prime(x):\n",
    "    return np.exp(-x) / (1 + np.exp(-x))**2\n",
    "\n",
    "def tanh(x):\n",
    "    return np.tanh(x)\n",
    "\n",
    "def tanh_prime(x):\n",
    "    return 1 - np.tanh(x)**2\n",
    "\n",
    "def relu(x):\n",
    "    return np.maximum(x, 0)\n",
    "\n",
    "def relu_prime(x):\n",
    "    return np.array(x >= 0).astype('int')"
   ]
  },
  {
   "cell_type": "code",
   "execution_count": 10,
   "metadata": {},
   "outputs": [],
   "source": [
    "def mse(y_true, y_pred):\n",
    "    return np.mean(np.power(y_true - y_pred, 2))\n",
    "\n",
    "def mse_prime(y_true, y_pred):\n",
    "    return 2 * (y_pred - y_true) / y_pred.size\n",
    "\n",
    "def sse(y_true, y_pred):\n",
    "    return 0.5 * np.sum(np.power(y_true - y_pred, 2))\n",
    "\n",
    "def sse_prime(y_true, y_pred):\n",
    "    return y_pred - y_true"
   ]
  },
  {
   "cell_type": "markdown",
   "metadata": {},
   "source": [
    "Getting the data from Keras datasets"
   ]
  },
  {
   "cell_type": "code",
   "execution_count": 11,
   "metadata": {},
   "outputs": [],
   "source": [
    "from keras.datasets import fashion_mnist\n",
    "from keras.utils import np_utils\n",
    "\n",
    "(x_train, y_train), (x_test, y_test) = fashion_mnist.load_data()\n",
    "\n",
    "x_train = x_train.astype('float32')\n",
    "x_train /= 255\n",
    "y_train = np_utils.to_categorical(y_train)\n",
    "x_train = x_train[0:1000]\n",
    "y_train = y_train[0:1000]\n",
    "\n",
    "x_test = x_test.astype('float32')\n",
    "x_test /= 255\n",
    "y_test = np_utils.to_categorical(y_test)"
   ]
  },
  {
   "cell_type": "code",
   "execution_count": 15,
   "metadata": {},
   "outputs": [
    {
     "name": "stdout",
     "output_type": "stream",
     "text": [
      "1/50, error=0.066016\n",
      "2/50, error=0.043547\n",
      "3/50, error=0.035648\n",
      "4/50, error=0.030214\n",
      "5/50, error=0.026379\n",
      "6/50, error=0.023839\n",
      "7/50, error=0.021532\n",
      "8/50, error=0.019740\n",
      "9/50, error=0.018300\n",
      "10/50, error=0.017142\n",
      "11/50, error=0.016006\n",
      "12/50, error=0.015381\n",
      "13/50, error=0.014738\n",
      "14/50, error=0.014169\n",
      "15/50, error=0.013329\n",
      "16/50, error=0.012744\n",
      "17/50, error=0.013299\n",
      "18/50, error=0.011824\n",
      "19/50, error=0.011319\n",
      "20/50, error=0.010614\n",
      "21/50, error=0.010046\n",
      "22/50, error=0.010655\n",
      "23/50, error=0.010686\n",
      "24/50, error=0.010025\n",
      "25/50, error=0.009687\n",
      "26/50, error=0.009671\n",
      "27/50, error=0.009189\n",
      "28/50, error=0.009073\n",
      "29/50, error=0.008931\n",
      "30/50, error=0.008505\n",
      "31/50, error=0.008205\n",
      "32/50, error=0.008601\n",
      "33/50, error=0.008489\n",
      "34/50, error=0.008020\n",
      "35/50, error=0.007990\n",
      "36/50, error=0.007170\n",
      "37/50, error=0.007167\n",
      "38/50, error=0.007821\n",
      "39/50, error=0.006998\n",
      "40/50, error=0.006761\n",
      "41/50, error=0.007664\n",
      "42/50, error=0.007218\n",
      "43/50, error=0.007138\n",
      "44/50, error=0.007045\n",
      "45/50, error=0.006755\n",
      "46/50, error=0.006287\n",
      "47/50, error=0.006741\n",
      "48/50, error=0.006064\n",
      "49/50, error=0.006188\n",
      "50/50, error=0.005954\n"
     ]
    }
   ],
   "source": [
    "network = [\n",
    "    FlattenLayer(input_shape=(28, 28)),\n",
    "    FCLayer(28 * 28, 128),\n",
    "    ActivationLayer(relu, relu_prime),\n",
    "    FCLayer(128, 10),\n",
    "    SoftmaxLayer(10)\n",
    "]\n",
    "\n",
    "epochs = 50\n",
    "learning_rate = 0.1\n",
    "\n",
    "# training\n",
    "for epoch in range(epochs):\n",
    "    error = 0\n",
    "    for x, y_true in zip(x_train, y_train):\n",
    "        # forward\n",
    "        output = x\n",
    "        for layer in network:\n",
    "            output = layer.forward(output)\n",
    "        \n",
    "        # error (display purpose only)\n",
    "        error += mse(y_true, output)\n",
    "\n",
    "        # backward\n",
    "        output_error = mse_prime(y_true, output)\n",
    "        for layer in reversed(network):\n",
    "            output_error = layer.backward(output_error, learning_rate)\n",
    "    \n",
    "    error /= len(x_train)\n",
    "    print('%d/%d, error=%f' % (epoch + 1, epochs, error))"
   ]
  },
  {
   "cell_type": "code",
   "execution_count": 16,
   "metadata": {},
   "outputs": [
    {
     "name": "stdout",
     "output_type": "stream",
     "text": [
      "ratio: 0.77\n",
      "mse: 0.0364\n"
     ]
    }
   ],
   "source": [
    "def predict(network, input):\n",
    "    output = input\n",
    "    for layer in network:\n",
    "        output = layer.forward(output)\n",
    "    return output\n",
    "\n",
    "ratio = sum([np.argmax(y) == np.argmax(predict(network, x)) for x, y in zip(x_test, y_test)]) / len(x_test)\n",
    "error = sum([mse(y, predict(network, x)) for x, y in zip(x_test, y_test)]) / len(x_test)\n",
    "print('ratio: %.2f' % ratio)\n",
    "print('mse: %.4f' % error)"
   ]
  },
  {
   "cell_type": "code",
   "execution_count": 17,
   "metadata": {},
   "outputs": [
    {
     "data": {
      "image/png": "[encoded data removed]",
      "text/plain": [
       "<Figure size 432x288 with 1 Axes>"
      ]
     },
     "metadata": {
      "needs_background": "light"
     },
     "output_type": "display_data"
    },
    {
     "name": "stdout",
     "output_type": "stream",
     "text": [
      "pred: 9, prob: 0.77, true: 9\n"
     ]
    },
    {
     "data": {
      "image/png": "[encoded data removed]",
      "text/plain": [
       "<Figure size 432x288 with 1 Axes>"
      ]
     },
     "metadata": {
      "needs_background": "light"
     },
     "output_type": "display_data"
    },
    {
     "name": "stdout",
     "output_type": "stream",
     "text": [
      "pred: 6, prob: 0.91, true: 2\n"
     ]
    },
    {
     "data": {
      "image/png": "[encoded data removed]",
      "text/plain": [
       "<Figure size 432x288 with 1 Axes>"
      ]
     },
     "metadata": {
      "needs_background": "light"
     },
     "output_type": "display_data"
    },
    {
     "name": "stdout",
     "output_type": "stream",
     "text": [
      "pred: 1, prob: 1.00, true: 1\n"
     ]
    },
    {
     "data": {
      "image/png": "[encoded data removed]",
      "text/plain": [
       "<Figure size 432x288 with 1 Axes>"
      ]
     },
     "metadata": {
      "needs_background": "light"
     },
     "output_type": "display_data"
    },
    {
     "name": "stdout",
     "output_type": "stream",
     "text": [
      "pred: 1, prob: 1.00, true: 1\n"
     ]
    },
    {
     "data": {
      "image/png": "[encoded data removed]",
      "text/plain": [
       "<Figure size 432x288 with 1 Axes>"
      ]
     },
     "metadata": {
      "needs_background": "light"
     },
     "output_type": "display_data"
    },
    {
     "name": "stdout",
     "output_type": "stream",
     "text": [
      "pred: 6, prob: 1.00, true: 6\n"
     ]
    },
    {
     "data": {
      "image/png": "[encoded data removed]",
      "text/plain": [
       "<Figure size 432x288 with 1 Axes>"
      ]
     },
     "metadata": {
      "needs_background": "light"
     },
     "output_type": "display_data"
    },
    {
     "name": "stdout",
     "output_type": "stream",
     "text": [
      "pred: 1, prob: 0.96, true: 1\n"
     ]
    },
    {
     "data": {
      "image/png": "[encoded data removed]",
      "text/plain": [
       "<Figure size 432x288 with 1 Axes>"
      ]
     },
     "metadata": {
      "needs_background": "light"
     },
     "output_type": "display_data"
    },
    {
     "name": "stdout",
     "output_type": "stream",
     "text": [
      "pred: 4, prob: 0.99, true: 4\n"
     ]
    },
    {
     "data": {
      "image/png": "[encoded data removed]",
      "text/plain": [
       "<Figure size 432x288 with 1 Axes>"
      ]
     },
     "metadata": {
      "needs_background": "light"
     },
     "output_type": "display_data"
    },
    {
     "name": "stdout",
     "output_type": "stream",
     "text": [
      "pred: 6, prob: 1.00, true: 6\n"
     ]
    },
    {
     "data": {
      "image/png": "[encoded data removed]",
      "text/plain": [
       "<Figure size 432x288 with 1 Axes>"
      ]
     },
     "metadata": {
      "needs_background": "light"
     },
     "output_type": "display_data"
    },
    {
     "name": "stdout",
     "output_type": "stream",
     "text": [
      "pred: 7, prob: 0.55, true: 5\n"
     ]
    },
    {
     "data": {
      "image/png": "[encoded data removed]",
      "text/plain": [
       "<Figure size 432x288 with 1 Axes>"
      ]
     },
     "metadata": {
      "needs_background": "light"
     },
     "output_type": "display_data"
    },
    {
     "name": "stdout",
     "output_type": "stream",
     "text": [
      "pred: 7, prob: 1.00, true: 7\n"
     ]
    }
   ],
   "source": [
    "import matplotlib.pyplot as plt\n",
    "\n",
    "samples = 10\n",
    "for test, true in zip(x_test[:samples], y_test[:samples]):\n",
    "    image = np.reshape(test, (28, 28))\n",
    "    plt.imshow(image, cmap='binary')\n",
    "    plt.show()\n",
    "    pred = predict(network, test)[0]\n",
    "    idx = np.argmax(pred)\n",
    "    idx_true = np.argmax(true)\n",
    "    print('pred: %s, prob: %.2f, true: %d' % (idx, pred[idx], idx_true))"
   ]
  },
  {
   "cell_type": "code",
   "execution_count": null,
   "metadata": {},
   "outputs": [],
   "source": []
  }
 ],
 "metadata": {
  "kernelspec": {
   "display_name": "Python 3",
   "language": "python",
   "name": "python3"
  },
  "language_info": {
   "codemirror_mode": {
    "name": "ipython",
    "version": 3
   },
   "file_extension": ".py",
   "mimetype": "text/x-python",
   "name": "python",
   "nbconvert_exporter": "python",
   "pygments_lexer": "ipython3",
   "version": "3.8.3"
  }
 },
 "nbformat": 4,
 "nbformat_minor": 4
}
